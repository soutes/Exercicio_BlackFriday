{
  "nbformat": 4,
  "nbformat_minor": 0,
  "metadata": {
    "colab": {
      "name": "Exec1_BlackFriday_Luiz_A_Soutes.ipynb",
      "provenance": [],
      "collapsed_sections": [],
      "toc_visible": true
    },
    "kernelspec": {
      "display_name": "Python 3",
      "language": "python",
      "name": "python3"
    },
    "language_info": {
      "codemirror_mode": {
        "name": "ipython",
        "version": 3
      },
      "file_extension": ".py",
      "mimetype": "text/x-python",
      "name": "python",
      "nbconvert_exporter": "python",
      "pygments_lexer": "ipython3",
      "version": "3.6.8"
    }
  },
  "cells": [
    {
      "cell_type": "code",
      "metadata": {
        "id": "x3ENRkvFAbOn"
      },
      "source": [
        "# !pip install catboost"
      ],
      "execution_count": null,
      "outputs": []
    },
    {
      "cell_type": "code",
      "metadata": {
        "id": "fZUlhijyvPlj"
      },
      "source": [
        "import math\n",
        "import numpy as np\n",
        "import pandas as pd\n",
        "import pandas_profiling\n",
        "from sklearn import preprocessing\n",
        "import matplotlib.pyplot as plt\n",
        "import seaborn as sns\n",
        "from sklearn.metrics import classification_report, confusion_matrix, roc_curve, auc\n",
        "from sklearn import datasets\n",
        "from sklearn.model_selection import train_test_split\n",
        "from sklearn.metrics import accuracy_score\n",
        "\n",
        "from sklearn.tree import DecisionTreeRegressor\n",
        "from sklearn.tree import DecisionTreeClassifier\n",
        "from sklearn.ensemble import RandomForestRegressor\n",
        "from sklearn.neighbors import KNeighborsRegressor\n",
        "from sklearn.svm import SVR\n",
        "from sklearn.linear_model import LinearRegression\n",
        "from sklearn.ensemble import AdaBoostRegressor\n",
        "from sklearn.ensemble import GradientBoostingRegressor\n",
        "from sklearn.linear_model import Lasso,Ridge,BayesianRidge,ElasticNet,HuberRegressor,LinearRegression,LogisticRegression,SGDRegressor\n",
        "from sklearn.metrics import mean_squared_error\n",
        "from xgboost import XGBRegressor\n",
        "from catboost import CatBoostRegressor\n",
        "\n",
        "%matplotlib inline"
      ],
      "execution_count": null,
      "outputs": []
    },
    {
      "cell_type": "code",
      "metadata": {
        "id": "vqTFk64CZ1hA"
      },
      "source": [
        "from sklearn.ensemble import RandomForestClassifier\n",
        "import xgboost as xgb\n",
        "from xgboost import XGBClassifier"
      ],
      "execution_count": null,
      "outputs": []
    },
    {
      "cell_type": "code",
      "metadata": {
        "id": "TNQCeWwDvPlp",
        "scrolled": true
      },
      "source": [
        "df_bf = pd.read_csv('BlackFriday.csv', sep=\",\")\n",
        "\n",
        "#pandas_profiling.ProfileReport(df_bf)"
      ],
      "execution_count": null,
      "outputs": []
    },
    {
      "cell_type": "code",
      "metadata": {
        "colab": {
          "base_uri": "https://localhost:8080/",
          "height": 292
        },
        "id": "KsdBaotFvPly",
        "outputId": "ecf8e6c0-649a-4d41-c701-51221f8cb361"
      },
      "source": [
        "df_bf.head()"
      ],
      "execution_count": null,
      "outputs": [
        {
          "output_type": "execute_result",
          "data": {
            "text/html": [
              "<div>\n",
              "<style scoped>\n",
              "    .dataframe tbody tr th:only-of-type {\n",
              "        vertical-align: middle;\n",
              "    }\n",
              "\n",
              "    .dataframe tbody tr th {\n",
              "        vertical-align: top;\n",
              "    }\n",
              "\n",
              "    .dataframe thead th {\n",
              "        text-align: right;\n",
              "    }\n",
              "</style>\n",
              "<table border=\"1\" class=\"dataframe\">\n",
              "  <thead>\n",
              "    <tr style=\"text-align: right;\">\n",
              "      <th></th>\n",
              "      <th>User_ID</th>\n",
              "      <th>Product_ID</th>\n",
              "      <th>Gender</th>\n",
              "      <th>Age</th>\n",
              "      <th>Occupation</th>\n",
              "      <th>City_Category</th>\n",
              "      <th>Stay_In_Current_City_Years</th>\n",
              "      <th>Marital_Status</th>\n",
              "      <th>Product_Category_1</th>\n",
              "      <th>Product_Category_2</th>\n",
              "      <th>Product_Category_3</th>\n",
              "      <th>Purchase</th>\n",
              "    </tr>\n",
              "  </thead>\n",
              "  <tbody>\n",
              "    <tr>\n",
              "      <th>0</th>\n",
              "      <td>1000001</td>\n",
              "      <td>P00069042</td>\n",
              "      <td>F</td>\n",
              "      <td>0-17</td>\n",
              "      <td>10</td>\n",
              "      <td>A</td>\n",
              "      <td>2</td>\n",
              "      <td>0</td>\n",
              "      <td>3</td>\n",
              "      <td>NaN</td>\n",
              "      <td>NaN</td>\n",
              "      <td>8370</td>\n",
              "    </tr>\n",
              "    <tr>\n",
              "      <th>1</th>\n",
              "      <td>1000001</td>\n",
              "      <td>P00248942</td>\n",
              "      <td>F</td>\n",
              "      <td>0-17</td>\n",
              "      <td>10</td>\n",
              "      <td>A</td>\n",
              "      <td>2</td>\n",
              "      <td>0</td>\n",
              "      <td>1</td>\n",
              "      <td>6.0</td>\n",
              "      <td>14.0</td>\n",
              "      <td>15200</td>\n",
              "    </tr>\n",
              "    <tr>\n",
              "      <th>2</th>\n",
              "      <td>1000001</td>\n",
              "      <td>P00087842</td>\n",
              "      <td>F</td>\n",
              "      <td>0-17</td>\n",
              "      <td>10</td>\n",
              "      <td>A</td>\n",
              "      <td>2</td>\n",
              "      <td>0</td>\n",
              "      <td>12</td>\n",
              "      <td>NaN</td>\n",
              "      <td>NaN</td>\n",
              "      <td>1422</td>\n",
              "    </tr>\n",
              "    <tr>\n",
              "      <th>3</th>\n",
              "      <td>1000001</td>\n",
              "      <td>P00085442</td>\n",
              "      <td>F</td>\n",
              "      <td>0-17</td>\n",
              "      <td>10</td>\n",
              "      <td>A</td>\n",
              "      <td>2</td>\n",
              "      <td>0</td>\n",
              "      <td>12</td>\n",
              "      <td>14.0</td>\n",
              "      <td>NaN</td>\n",
              "      <td>1057</td>\n",
              "    </tr>\n",
              "    <tr>\n",
              "      <th>4</th>\n",
              "      <td>1000002</td>\n",
              "      <td>P00285442</td>\n",
              "      <td>M</td>\n",
              "      <td>55+</td>\n",
              "      <td>16</td>\n",
              "      <td>C</td>\n",
              "      <td>4+</td>\n",
              "      <td>0</td>\n",
              "      <td>8</td>\n",
              "      <td>NaN</td>\n",
              "      <td>NaN</td>\n",
              "      <td>7969</td>\n",
              "    </tr>\n",
              "  </tbody>\n",
              "</table>\n",
              "</div>"
            ],
            "text/plain": [
              "   User_ID Product_ID Gender   Age  Occupation City_Category  \\\n",
              "0  1000001  P00069042      F  0-17          10             A   \n",
              "1  1000001  P00248942      F  0-17          10             A   \n",
              "2  1000001  P00087842      F  0-17          10             A   \n",
              "3  1000001  P00085442      F  0-17          10             A   \n",
              "4  1000002  P00285442      M   55+          16             C   \n",
              "\n",
              "  Stay_In_Current_City_Years  Marital_Status  Product_Category_1  \\\n",
              "0                          2               0                   3   \n",
              "1                          2               0                   1   \n",
              "2                          2               0                  12   \n",
              "3                          2               0                  12   \n",
              "4                         4+               0                   8   \n",
              "\n",
              "   Product_Category_2  Product_Category_3  Purchase  \n",
              "0                 NaN                 NaN      8370  \n",
              "1                 6.0                14.0     15200  \n",
              "2                 NaN                 NaN      1422  \n",
              "3                14.0                 NaN      1057  \n",
              "4                 NaN                 NaN      7969  "
            ]
          },
          "metadata": {
            "tags": []
          },
          "execution_count": 5
        }
      ]
    },
    {
      "cell_type": "code",
      "metadata": {
        "colab": {
          "base_uri": "https://localhost:8080/",
          "height": 238
        },
        "id": "G4Y2ayDKvPl3",
        "outputId": "e0d67e2c-7f17-4b54-b27d-badcdc08e06a"
      },
      "source": [
        "df_bf.isnull().sum()"
      ],
      "execution_count": null,
      "outputs": [
        {
          "output_type": "execute_result",
          "data": {
            "text/plain": [
              "User_ID                            0\n",
              "Product_ID                         0\n",
              "Gender                             0\n",
              "Age                                0\n",
              "Occupation                         0\n",
              "City_Category                      0\n",
              "Stay_In_Current_City_Years         0\n",
              "Marital_Status                     0\n",
              "Product_Category_1                 0\n",
              "Product_Category_2            166986\n",
              "Product_Category_3            373299\n",
              "Purchase                           0\n",
              "dtype: int64"
            ]
          },
          "metadata": {
            "tags": []
          },
          "execution_count": 6
        }
      ]
    },
    {
      "cell_type": "code",
      "metadata": {
        "id": "nY_k5vMQIoFg"
      },
      "source": [
        "df_bf['Product_Category_2'].fillna(99, inplace=True)\n",
        "df_bf['Product_Category_3'].fillna(99, inplace=True)"
      ],
      "execution_count": null,
      "outputs": []
    },
    {
      "cell_type": "code",
      "metadata": {
        "colab": {
          "base_uri": "https://localhost:8080/",
          "height": 238
        },
        "id": "IrZKsHWDMbZs",
        "outputId": "1a3143c2-4622-4b41-af82-3ea4f63746d5"
      },
      "source": [
        "df_bf.isnull().sum()"
      ],
      "execution_count": null,
      "outputs": [
        {
          "output_type": "execute_result",
          "data": {
            "text/plain": [
              "User_ID                       0\n",
              "Product_ID                    0\n",
              "Gender                        0\n",
              "Age                           0\n",
              "Occupation                    0\n",
              "City_Category                 0\n",
              "Stay_In_Current_City_Years    0\n",
              "Marital_Status                0\n",
              "Product_Category_1            0\n",
              "Product_Category_2            0\n",
              "Product_Category_3            0\n",
              "Purchase                      0\n",
              "dtype: int64"
            ]
          },
          "metadata": {
            "tags": []
          },
          "execution_count": 7
        }
      ]
    },
    {
      "cell_type": "code",
      "metadata": {
        "colab": {
          "base_uri": "https://localhost:8080/",
          "height": 238
        },
        "id": "MwLtPSrYG2OV",
        "outputId": "6beef3dc-b575-4c1a-e406-b2977b590085"
      },
      "source": [
        "df_bf.dtypes"
      ],
      "execution_count": null,
      "outputs": [
        {
          "output_type": "execute_result",
          "data": {
            "text/plain": [
              "User_ID                         int64\n",
              "Product_ID                     object\n",
              "Gender                         object\n",
              "Age                            object\n",
              "Occupation                      int64\n",
              "City_Category                  object\n",
              "Stay_In_Current_City_Years     object\n",
              "Marital_Status                  int64\n",
              "Product_Category_1              int64\n",
              "Product_Category_2            float64\n",
              "Product_Category_3            float64\n",
              "Purchase                        int64\n",
              "dtype: object"
            ]
          },
          "metadata": {
            "tags": []
          },
          "execution_count": 7
        }
      ]
    },
    {
      "cell_type": "code",
      "metadata": {
        "id": "5-KCYR9JCOzU",
        "scrolled": true,
        "outputId": "2c1b3976-f595-4560-a0b7-3b1faef22627"
      },
      "source": [
        "df_prod = df_bf.groupby('Product_ID').sum()['Purchase']\n",
        "df_prod"
      ],
      "execution_count": null,
      "outputs": [
        {
          "output_type": "execute_result",
          "data": {
            "text/plain": [
              "Product_ID\n",
              "P00000142    12592163\n",
              "P00000242     3914901\n",
              "P00000342     1261383\n",
              "P00000442      441173\n",
              "P00000542      791219\n",
              "P00000642     7635578\n",
              "P00000742     1435959\n",
              "P00000842      360314\n",
              "P00000942      573183\n",
              "P00001042     6787184\n",
              "P00001142     3821804\n",
              "P00001242      421327\n",
              "P00001342      518420\n",
              "P00001442      612829\n",
              "P00001542      628586\n",
              "P00001642     2642227\n",
              "P00001742     3585330\n",
              "P00001842     1095944\n",
              "P00001942      901749\n",
              "P00002042      874053\n",
              "P00002142    10322944\n",
              "P00002242     2637721\n",
              "P00002342      784352\n",
              "P00002442     2072076\n",
              "P00002542     3891418\n",
              "P00002642      425676\n",
              "P00002742      234684\n",
              "P00002842     1236432\n",
              "P00002942     2880524\n",
              "P00003042      278597\n",
              "               ...   \n",
              "P0096942      1414144\n",
              "P0097042      1326964\n",
              "P0097142       664194\n",
              "P0097242     14249873\n",
              "P0097342      3750556\n",
              "P0097442        37913\n",
              "P0097542        45663\n",
              "P0097642         6120\n",
              "P0097742      1960977\n",
              "P0097842      1689168\n",
              "P0097942       347768\n",
              "P0098042       135407\n",
              "P0098142       333743\n",
              "P0098242      3025773\n",
              "P0098342      3281103\n",
              "P0098442      1126996\n",
              "P0098542       303379\n",
              "P0098642       325726\n",
              "P0098742       322772\n",
              "P0098842       124644\n",
              "P0098942       231159\n",
              "P0099042       879010\n",
              "P0099142        45914\n",
              "P0099242      1735776\n",
              "P0099342      3015288\n",
              "P0099442      2813314\n",
              "P0099642        83710\n",
              "P0099742       967072\n",
              "P0099842       721334\n",
              "P0099942        70843\n",
              "Name: Purchase, Length: 3623, dtype: int64"
            ]
          },
          "metadata": {
            "tags": []
          },
          "execution_count": 9
        }
      ]
    },
    {
      "cell_type": "markdown",
      "metadata": {
        "id": "1qGEUKwPJRky"
      },
      "source": [
        "## **Análise Explotatória**"
      ]
    },
    {
      "cell_type": "markdown",
      "metadata": {
        "id": "xCigTFmUZ1hG"
      },
      "source": [
        "## Quais os produtos mais rentáveis?"
      ]
    },
    {
      "cell_type": "code",
      "metadata": {
        "id": "mzJR8iBHkjG-",
        "outputId": "39c20082-007a-450c-a4a7-f0f7a90a01f9"
      },
      "source": [
        "pd.DataFrame(df_prod)"
      ],
      "execution_count": null,
      "outputs": [
        {
          "output_type": "execute_result",
          "data": {
            "text/html": [
              "<div>\n",
              "<style scoped>\n",
              "    .dataframe tbody tr th:only-of-type {\n",
              "        vertical-align: middle;\n",
              "    }\n",
              "\n",
              "    .dataframe tbody tr th {\n",
              "        vertical-align: top;\n",
              "    }\n",
              "\n",
              "    .dataframe thead th {\n",
              "        text-align: right;\n",
              "    }\n",
              "</style>\n",
              "<table border=\"1\" class=\"dataframe\">\n",
              "  <thead>\n",
              "    <tr style=\"text-align: right;\">\n",
              "      <th></th>\n",
              "      <th>Purchase</th>\n",
              "    </tr>\n",
              "    <tr>\n",
              "      <th>Product_ID</th>\n",
              "      <th></th>\n",
              "    </tr>\n",
              "  </thead>\n",
              "  <tbody>\n",
              "    <tr>\n",
              "      <th>P00000142</th>\n",
              "      <td>12592163</td>\n",
              "    </tr>\n",
              "    <tr>\n",
              "      <th>P00000242</th>\n",
              "      <td>3914901</td>\n",
              "    </tr>\n",
              "    <tr>\n",
              "      <th>P00000342</th>\n",
              "      <td>1261383</td>\n",
              "    </tr>\n",
              "    <tr>\n",
              "      <th>P00000442</th>\n",
              "      <td>441173</td>\n",
              "    </tr>\n",
              "    <tr>\n",
              "      <th>P00000542</th>\n",
              "      <td>791219</td>\n",
              "    </tr>\n",
              "    <tr>\n",
              "      <th>P00000642</th>\n",
              "      <td>7635578</td>\n",
              "    </tr>\n",
              "    <tr>\n",
              "      <th>P00000742</th>\n",
              "      <td>1435959</td>\n",
              "    </tr>\n",
              "    <tr>\n",
              "      <th>P00000842</th>\n",
              "      <td>360314</td>\n",
              "    </tr>\n",
              "    <tr>\n",
              "      <th>P00000942</th>\n",
              "      <td>573183</td>\n",
              "    </tr>\n",
              "    <tr>\n",
              "      <th>P00001042</th>\n",
              "      <td>6787184</td>\n",
              "    </tr>\n",
              "    <tr>\n",
              "      <th>P00001142</th>\n",
              "      <td>3821804</td>\n",
              "    </tr>\n",
              "    <tr>\n",
              "      <th>P00001242</th>\n",
              "      <td>421327</td>\n",
              "    </tr>\n",
              "    <tr>\n",
              "      <th>P00001342</th>\n",
              "      <td>518420</td>\n",
              "    </tr>\n",
              "    <tr>\n",
              "      <th>P00001442</th>\n",
              "      <td>612829</td>\n",
              "    </tr>\n",
              "    <tr>\n",
              "      <th>P00001542</th>\n",
              "      <td>628586</td>\n",
              "    </tr>\n",
              "    <tr>\n",
              "      <th>P00001642</th>\n",
              "      <td>2642227</td>\n",
              "    </tr>\n",
              "    <tr>\n",
              "      <th>P00001742</th>\n",
              "      <td>3585330</td>\n",
              "    </tr>\n",
              "    <tr>\n",
              "      <th>P00001842</th>\n",
              "      <td>1095944</td>\n",
              "    </tr>\n",
              "    <tr>\n",
              "      <th>P00001942</th>\n",
              "      <td>901749</td>\n",
              "    </tr>\n",
              "    <tr>\n",
              "      <th>P00002042</th>\n",
              "      <td>874053</td>\n",
              "    </tr>\n",
              "    <tr>\n",
              "      <th>P00002142</th>\n",
              "      <td>10322944</td>\n",
              "    </tr>\n",
              "    <tr>\n",
              "      <th>P00002242</th>\n",
              "      <td>2637721</td>\n",
              "    </tr>\n",
              "    <tr>\n",
              "      <th>P00002342</th>\n",
              "      <td>784352</td>\n",
              "    </tr>\n",
              "    <tr>\n",
              "      <th>P00002442</th>\n",
              "      <td>2072076</td>\n",
              "    </tr>\n",
              "    <tr>\n",
              "      <th>P00002542</th>\n",
              "      <td>3891418</td>\n",
              "    </tr>\n",
              "    <tr>\n",
              "      <th>P00002642</th>\n",
              "      <td>425676</td>\n",
              "    </tr>\n",
              "    <tr>\n",
              "      <th>P00002742</th>\n",
              "      <td>234684</td>\n",
              "    </tr>\n",
              "    <tr>\n",
              "      <th>P00002842</th>\n",
              "      <td>1236432</td>\n",
              "    </tr>\n",
              "    <tr>\n",
              "      <th>P00002942</th>\n",
              "      <td>2880524</td>\n",
              "    </tr>\n",
              "    <tr>\n",
              "      <th>P00003042</th>\n",
              "      <td>278597</td>\n",
              "    </tr>\n",
              "    <tr>\n",
              "      <th>...</th>\n",
              "      <td>...</td>\n",
              "    </tr>\n",
              "    <tr>\n",
              "      <th>P0096942</th>\n",
              "      <td>1414144</td>\n",
              "    </tr>\n",
              "    <tr>\n",
              "      <th>P0097042</th>\n",
              "      <td>1326964</td>\n",
              "    </tr>\n",
              "    <tr>\n",
              "      <th>P0097142</th>\n",
              "      <td>664194</td>\n",
              "    </tr>\n",
              "    <tr>\n",
              "      <th>P0097242</th>\n",
              "      <td>14249873</td>\n",
              "    </tr>\n",
              "    <tr>\n",
              "      <th>P0097342</th>\n",
              "      <td>3750556</td>\n",
              "    </tr>\n",
              "    <tr>\n",
              "      <th>P0097442</th>\n",
              "      <td>37913</td>\n",
              "    </tr>\n",
              "    <tr>\n",
              "      <th>P0097542</th>\n",
              "      <td>45663</td>\n",
              "    </tr>\n",
              "    <tr>\n",
              "      <th>P0097642</th>\n",
              "      <td>6120</td>\n",
              "    </tr>\n",
              "    <tr>\n",
              "      <th>P0097742</th>\n",
              "      <td>1960977</td>\n",
              "    </tr>\n",
              "    <tr>\n",
              "      <th>P0097842</th>\n",
              "      <td>1689168</td>\n",
              "    </tr>\n",
              "    <tr>\n",
              "      <th>P0097942</th>\n",
              "      <td>347768</td>\n",
              "    </tr>\n",
              "    <tr>\n",
              "      <th>P0098042</th>\n",
              "      <td>135407</td>\n",
              "    </tr>\n",
              "    <tr>\n",
              "      <th>P0098142</th>\n",
              "      <td>333743</td>\n",
              "    </tr>\n",
              "    <tr>\n",
              "      <th>P0098242</th>\n",
              "      <td>3025773</td>\n",
              "    </tr>\n",
              "    <tr>\n",
              "      <th>P0098342</th>\n",
              "      <td>3281103</td>\n",
              "    </tr>\n",
              "    <tr>\n",
              "      <th>P0098442</th>\n",
              "      <td>1126996</td>\n",
              "    </tr>\n",
              "    <tr>\n",
              "      <th>P0098542</th>\n",
              "      <td>303379</td>\n",
              "    </tr>\n",
              "    <tr>\n",
              "      <th>P0098642</th>\n",
              "      <td>325726</td>\n",
              "    </tr>\n",
              "    <tr>\n",
              "      <th>P0098742</th>\n",
              "      <td>322772</td>\n",
              "    </tr>\n",
              "    <tr>\n",
              "      <th>P0098842</th>\n",
              "      <td>124644</td>\n",
              "    </tr>\n",
              "    <tr>\n",
              "      <th>P0098942</th>\n",
              "      <td>231159</td>\n",
              "    </tr>\n",
              "    <tr>\n",
              "      <th>P0099042</th>\n",
              "      <td>879010</td>\n",
              "    </tr>\n",
              "    <tr>\n",
              "      <th>P0099142</th>\n",
              "      <td>45914</td>\n",
              "    </tr>\n",
              "    <tr>\n",
              "      <th>P0099242</th>\n",
              "      <td>1735776</td>\n",
              "    </tr>\n",
              "    <tr>\n",
              "      <th>P0099342</th>\n",
              "      <td>3015288</td>\n",
              "    </tr>\n",
              "    <tr>\n",
              "      <th>P0099442</th>\n",
              "      <td>2813314</td>\n",
              "    </tr>\n",
              "    <tr>\n",
              "      <th>P0099642</th>\n",
              "      <td>83710</td>\n",
              "    </tr>\n",
              "    <tr>\n",
              "      <th>P0099742</th>\n",
              "      <td>967072</td>\n",
              "    </tr>\n",
              "    <tr>\n",
              "      <th>P0099842</th>\n",
              "      <td>721334</td>\n",
              "    </tr>\n",
              "    <tr>\n",
              "      <th>P0099942</th>\n",
              "      <td>70843</td>\n",
              "    </tr>\n",
              "  </tbody>\n",
              "</table>\n",
              "<p>3623 rows × 1 columns</p>\n",
              "</div>"
            ],
            "text/plain": [
              "            Purchase\n",
              "Product_ID          \n",
              "P00000142   12592163\n",
              "P00000242    3914901\n",
              "P00000342    1261383\n",
              "P00000442     441173\n",
              "P00000542     791219\n",
              "P00000642    7635578\n",
              "P00000742    1435959\n",
              "P00000842     360314\n",
              "P00000942     573183\n",
              "P00001042    6787184\n",
              "P00001142    3821804\n",
              "P00001242     421327\n",
              "P00001342     518420\n",
              "P00001442     612829\n",
              "P00001542     628586\n",
              "P00001642    2642227\n",
              "P00001742    3585330\n",
              "P00001842    1095944\n",
              "P00001942     901749\n",
              "P00002042     874053\n",
              "P00002142   10322944\n",
              "P00002242    2637721\n",
              "P00002342     784352\n",
              "P00002442    2072076\n",
              "P00002542    3891418\n",
              "P00002642     425676\n",
              "P00002742     234684\n",
              "P00002842    1236432\n",
              "P00002942    2880524\n",
              "P00003042     278597\n",
              "...              ...\n",
              "P0096942     1414144\n",
              "P0097042     1326964\n",
              "P0097142      664194\n",
              "P0097242    14249873\n",
              "P0097342     3750556\n",
              "P0097442       37913\n",
              "P0097542       45663\n",
              "P0097642        6120\n",
              "P0097742     1960977\n",
              "P0097842     1689168\n",
              "P0097942      347768\n",
              "P0098042      135407\n",
              "P0098142      333743\n",
              "P0098242     3025773\n",
              "P0098342     3281103\n",
              "P0098442     1126996\n",
              "P0098542      303379\n",
              "P0098642      325726\n",
              "P0098742      322772\n",
              "P0098842      124644\n",
              "P0098942      231159\n",
              "P0099042      879010\n",
              "P0099142       45914\n",
              "P0099242     1735776\n",
              "P0099342     3015288\n",
              "P0099442     2813314\n",
              "P0099642       83710\n",
              "P0099742      967072\n",
              "P0099842      721334\n",
              "P0099942       70843\n",
              "\n",
              "[3623 rows x 1 columns]"
            ]
          },
          "metadata": {
            "tags": []
          },
          "execution_count": 10
        }
      ]
    },
    {
      "cell_type": "code",
      "metadata": {
        "id": "7GsNMZHHlW2e"
      },
      "source": [
        "df_prod.columns = ['Produtos','Vendas']"
      ],
      "execution_count": null,
      "outputs": []
    },
    {
      "cell_type": "code",
      "metadata": {
        "id": "9CEJ2Yv4l0mY"
      },
      "source": [
        "df_prod = df_prod.sort_values(ascending=False)"
      ],
      "execution_count": null,
      "outputs": []
    },
    {
      "cell_type": "code",
      "metadata": {
        "id": "D8q5EaYEm2ML"
      },
      "source": [
        "df_prod = df_prod[:10]"
      ],
      "execution_count": null,
      "outputs": []
    },
    {
      "cell_type": "code",
      "metadata": {
        "colab": {
          "base_uri": "https://localhost:8080/",
          "height": 221
        },
        "id": "ceoZHlPkbCL0",
        "outputId": "f0c35043-de15-41f8-899c-33bd70576287"
      },
      "source": [
        "df_prod"
      ],
      "execution_count": null,
      "outputs": [
        {
          "output_type": "execute_result",
          "data": {
            "text/plain": [
              "Product_ID\n",
              "P00025442    27532426\n",
              "P00110742    26382569\n",
              "P00255842    24652442\n",
              "P00184942    24060871\n",
              "P00059442    23948299\n",
              "P00112142    23882624\n",
              "P00110942    23232538\n",
              "P00237542    23096487\n",
              "P00057642    22493690\n",
              "P00010742    21865042\n",
              "Name: Purchase, dtype: int64"
            ]
          },
          "metadata": {
            "tags": []
          },
          "execution_count": 14
        }
      ]
    },
    {
      "cell_type": "code",
      "metadata": {
        "colab": {
          "base_uri": "https://localhost:8080/",
          "height": 224
        },
        "id": "6wJ8FrJQbfGC",
        "outputId": "432f780c-5f2b-49fb-d517-587e4200b1e8"
      },
      "source": [
        "df_bf.head()"
      ],
      "execution_count": null,
      "outputs": [
        {
          "output_type": "execute_result",
          "data": {
            "text/html": [
              "<div>\n",
              "<style scoped>\n",
              "    .dataframe tbody tr th:only-of-type {\n",
              "        vertical-align: middle;\n",
              "    }\n",
              "\n",
              "    .dataframe tbody tr th {\n",
              "        vertical-align: top;\n",
              "    }\n",
              "\n",
              "    .dataframe thead th {\n",
              "        text-align: right;\n",
              "    }\n",
              "</style>\n",
              "<table border=\"1\" class=\"dataframe\">\n",
              "  <thead>\n",
              "    <tr style=\"text-align: right;\">\n",
              "      <th></th>\n",
              "      <th>User_ID</th>\n",
              "      <th>Product_ID</th>\n",
              "      <th>Gender</th>\n",
              "      <th>Age</th>\n",
              "      <th>Occupation</th>\n",
              "      <th>City_Category</th>\n",
              "      <th>Stay_In_Current_City_Years</th>\n",
              "      <th>Marital_Status</th>\n",
              "      <th>Product_Category_1</th>\n",
              "      <th>Product_Category_2</th>\n",
              "      <th>Product_Category_3</th>\n",
              "      <th>Purchase</th>\n",
              "    </tr>\n",
              "  </thead>\n",
              "  <tbody>\n",
              "    <tr>\n",
              "      <th>0</th>\n",
              "      <td>1000001</td>\n",
              "      <td>P00069042</td>\n",
              "      <td>F</td>\n",
              "      <td>0-17</td>\n",
              "      <td>10</td>\n",
              "      <td>A</td>\n",
              "      <td>2</td>\n",
              "      <td>0</td>\n",
              "      <td>3</td>\n",
              "      <td>NaN</td>\n",
              "      <td>NaN</td>\n",
              "      <td>8370</td>\n",
              "    </tr>\n",
              "    <tr>\n",
              "      <th>1</th>\n",
              "      <td>1000001</td>\n",
              "      <td>P00248942</td>\n",
              "      <td>F</td>\n",
              "      <td>0-17</td>\n",
              "      <td>10</td>\n",
              "      <td>A</td>\n",
              "      <td>2</td>\n",
              "      <td>0</td>\n",
              "      <td>1</td>\n",
              "      <td>6.0</td>\n",
              "      <td>14.0</td>\n",
              "      <td>15200</td>\n",
              "    </tr>\n",
              "    <tr>\n",
              "      <th>2</th>\n",
              "      <td>1000001</td>\n",
              "      <td>P00087842</td>\n",
              "      <td>F</td>\n",
              "      <td>0-17</td>\n",
              "      <td>10</td>\n",
              "      <td>A</td>\n",
              "      <td>2</td>\n",
              "      <td>0</td>\n",
              "      <td>12</td>\n",
              "      <td>NaN</td>\n",
              "      <td>NaN</td>\n",
              "      <td>1422</td>\n",
              "    </tr>\n",
              "    <tr>\n",
              "      <th>3</th>\n",
              "      <td>1000001</td>\n",
              "      <td>P00085442</td>\n",
              "      <td>F</td>\n",
              "      <td>0-17</td>\n",
              "      <td>10</td>\n",
              "      <td>A</td>\n",
              "      <td>2</td>\n",
              "      <td>0</td>\n",
              "      <td>12</td>\n",
              "      <td>14.0</td>\n",
              "      <td>NaN</td>\n",
              "      <td>1057</td>\n",
              "    </tr>\n",
              "    <tr>\n",
              "      <th>4</th>\n",
              "      <td>1000002</td>\n",
              "      <td>P00285442</td>\n",
              "      <td>M</td>\n",
              "      <td>55+</td>\n",
              "      <td>16</td>\n",
              "      <td>C</td>\n",
              "      <td>4+</td>\n",
              "      <td>0</td>\n",
              "      <td>8</td>\n",
              "      <td>NaN</td>\n",
              "      <td>NaN</td>\n",
              "      <td>7969</td>\n",
              "    </tr>\n",
              "  </tbody>\n",
              "</table>\n",
              "</div>"
            ],
            "text/plain": [
              "   User_ID Product_ID Gender   Age  Occupation City_Category  \\\n",
              "0  1000001  P00069042      F  0-17          10             A   \n",
              "1  1000001  P00248942      F  0-17          10             A   \n",
              "2  1000001  P00087842      F  0-17          10             A   \n",
              "3  1000001  P00085442      F  0-17          10             A   \n",
              "4  1000002  P00285442      M   55+          16             C   \n",
              "\n",
              "  Stay_In_Current_City_Years  Marital_Status  Product_Category_1  \\\n",
              "0                          2               0                   3   \n",
              "1                          2               0                   1   \n",
              "2                          2               0                  12   \n",
              "3                          2               0                  12   \n",
              "4                         4+               0                   8   \n",
              "\n",
              "   Product_Category_2  Product_Category_3  Purchase  \n",
              "0                 NaN                 NaN      8370  \n",
              "1                 6.0                14.0     15200  \n",
              "2                 NaN                 NaN      1422  \n",
              "3                14.0                 NaN      1057  \n",
              "4                 NaN                 NaN      7969  "
            ]
          },
          "metadata": {
            "tags": []
          },
          "execution_count": 15
        }
      ]
    },
    {
      "cell_type": "code",
      "metadata": {
        "colab": {
          "base_uri": "https://localhost:8080/",
          "height": 355
        },
        "id": "Umei6xc_JaFV",
        "outputId": "967ba3ad-ad57-432a-8d13-9c4b15cd404d"
      },
      "source": [
        "df_prod.plot.bar()"
      ],
      "execution_count": null,
      "outputs": [
        {
          "output_type": "execute_result",
          "data": {
            "text/plain": [
              "<matplotlib.axes._subplots.AxesSubplot at 0x7f8cd8153b70>"
            ]
          },
          "metadata": {
            "tags": []
          },
          "execution_count": 16
        },
        {
          "output_type": "display_data",
          "data": {
            "image/png": "[encoded data removed]",
            "text/plain": [
              "<Figure size 432x288 with 1 Axes>"
            ]
          },
          "metadata": {
            "tags": [],
            "needs_background": "light"
          }
        }
      ]
    },
    {
      "cell_type": "markdown",
      "metadata": {
        "id": "29jHerytZ1hK"
      },
      "source": [
        "Não houve um produto com uma receita muito superior em relação aos demais.\n",
        "No gráfico acima podemos observar isto e também quais foram os produtos mais rantáveis."
      ]
    },
    {
      "cell_type": "code",
      "metadata": {
        "id": "1CJYCLwIZ1hL",
        "outputId": "5befac85-784a-488f-fb31-5e41af4ba945"
      },
      "source": [
        "plt.figure(figsize=(7,5))\n",
        "sns.barplot(x=df_bf.Gender.value_counts().index,y=df_bf.Gender.value_counts().values )\n",
        "plt.show()"
      ],
      "execution_count": null,
      "outputs": [
        {
          "output_type": "display_data",
          "data": {
            "image/png": "[encoded data removed]",
            "text/plain": [
              "<Figure size 504x360 with 1 Axes>"
            ]
          },
          "metadata": {
            "tags": [],
            "needs_background": "light"
          }
        }
      ]
    },
    {
      "cell_type": "markdown",
      "metadata": {
        "id": "qZJL7hnVZ1hL"
      },
      "source": [
        "# Como foram os gastos de acordo com as faixas etárias?"
      ]
    },
    {
      "cell_type": "code",
      "metadata": {
        "id": "60lEerzYZ1hL",
        "outputId": "2ca4e27c-8111-4f4e-d8cb-1b77cd9fe372"
      },
      "source": [
        "plt.figure(figsize=(7,5))\n",
        "sns.barplot(x=df_bf.Age.value_counts().index, y=df_bf.Age.value_counts().values)\n",
        "plt.show()"
      ],
      "execution_count": null,
      "outputs": [
        {
          "output_type": "display_data",
          "data": {
            "image/png": "[encoded data removed]",
            "text/plain": [
              "<Figure size 504x360 with 1 Axes>"
            ]
          },
          "metadata": {
            "tags": [],
            "needs_background": "light"
          }
        }
      ]
    },
    {
      "cell_type": "markdown",
      "metadata": {
        "id": "kpyHbSGtZ1hM"
      },
      "source": [
        "Através do gráfico podemos assegurar que os consumidores entre 26 e 35 anos foram os que mais compraram."
      ]
    },
    {
      "cell_type": "markdown",
      "metadata": {
        "id": "ElVTffb2Z1hN"
      },
      "source": [
        "# Quais os consumidores que mais gastaram?"
      ]
    },
    {
      "cell_type": "code",
      "metadata": {
        "id": "GDJSp6pUZ1hN"
      },
      "source": [
        "moneybox = []\n",
        "lista_consumidores = list(df_bf.User_ID.unique())\n",
        "\n",
        "for i in lista_consumidores:\n",
        "    money = df_bf[df_bf.User_ID == i].Purchase.sum()\n",
        "    moneybox.append(money)"
      ],
      "execution_count": null,
      "outputs": []
    },
    {
      "cell_type": "code",
      "metadata": {
        "id": "81PsVpSGZ1hN",
        "outputId": "0d26289b-0fca-4a2e-b8bf-f0e159bda903"
      },
      "source": [
        "compras_por_usuarios = pd.DataFrame(dict(Users=lista_consumidores, Purchases=moneybox))\n",
        "indices = (compras_por_usuarios.Purchases.sort_values(ascending=False)).index.values[:10]\n",
        "compras_por_usuarios = compras_por_usuarios.reindex(indices).iloc[:10]\n",
        "compras_por_usuarios"
      ],
      "execution_count": null,
      "outputs": [
        {
          "output_type": "execute_result",
          "data": {
            "text/html": [
              "<div>\n",
              "<style scoped>\n",
              "    .dataframe tbody tr th:only-of-type {\n",
              "        vertical-align: middle;\n",
              "    }\n",
              "\n",
              "    .dataframe tbody tr th {\n",
              "        vertical-align: top;\n",
              "    }\n",
              "\n",
              "    .dataframe thead th {\n",
              "        text-align: right;\n",
              "    }\n",
              "</style>\n",
              "<table border=\"1\" class=\"dataframe\">\n",
              "  <thead>\n",
              "    <tr style=\"text-align: right;\">\n",
              "      <th></th>\n",
              "      <th>Users</th>\n",
              "      <th>Purchases</th>\n",
              "    </tr>\n",
              "  </thead>\n",
              "  <tbody>\n",
              "    <tr>\n",
              "      <th>3772</th>\n",
              "      <td>1004277</td>\n",
              "      <td>10536783</td>\n",
              "    </tr>\n",
              "    <tr>\n",
              "      <th>1488</th>\n",
              "      <td>1001680</td>\n",
              "      <td>8699232</td>\n",
              "    </tr>\n",
              "    <tr>\n",
              "      <th>2555</th>\n",
              "      <td>1002909</td>\n",
              "      <td>7577505</td>\n",
              "    </tr>\n",
              "    <tr>\n",
              "      <th>1716</th>\n",
              "      <td>1001941</td>\n",
              "      <td>6817493</td>\n",
              "    </tr>\n",
              "    <tr>\n",
              "      <th>386</th>\n",
              "      <td>1000424</td>\n",
              "      <td>6573609</td>\n",
              "    </tr>\n",
              "    <tr>\n",
              "      <th>3921</th>\n",
              "      <td>1004448</td>\n",
              "      <td>6565878</td>\n",
              "    </tr>\n",
              "    <tr>\n",
              "      <th>899</th>\n",
              "      <td>1001015</td>\n",
              "      <td>6511302</td>\n",
              "    </tr>\n",
              "    <tr>\n",
              "      <th>2976</th>\n",
              "      <td>1003391</td>\n",
              "      <td>6476786</td>\n",
              "    </tr>\n",
              "    <tr>\n",
              "      <th>1049</th>\n",
              "      <td>1001181</td>\n",
              "      <td>6387899</td>\n",
              "    </tr>\n",
              "    <tr>\n",
              "      <th>489</th>\n",
              "      <td>1000549</td>\n",
              "      <td>6310604</td>\n",
              "    </tr>\n",
              "  </tbody>\n",
              "</table>\n",
              "</div>"
            ],
            "text/plain": [
              "        Users  Purchases\n",
              "3772  1004277   10536783\n",
              "1488  1001680    8699232\n",
              "2555  1002909    7577505\n",
              "1716  1001941    6817493\n",
              "386   1000424    6573609\n",
              "3921  1004448    6565878\n",
              "899   1001015    6511302\n",
              "2976  1003391    6476786\n",
              "1049  1001181    6387899\n",
              "489   1000549    6310604"
            ]
          },
          "metadata": {
            "tags": []
          },
          "execution_count": 20
        }
      ]
    },
    {
      "cell_type": "markdown",
      "metadata": {
        "id": "5N0yTh69Z1hO"
      },
      "source": [
        "Na tabela acima, está listado os 10 consumidores que mais gastaram, de acordo com os dados fornecidos."
      ]
    },
    {
      "cell_type": "code",
      "metadata": {
        "colab": {
          "base_uri": "https://localhost:8080/",
          "height": 721
        },
        "id": "eOFrGVDivPl9",
        "outputId": "3b19fac3-a328-4a5f-fce0-b8774d5bded8"
      },
      "source": [
        "df_bf2 = df_bf.drop(['User_ID'],axis=1)\n",
        "\n",
        "plt.figure(figsize=(8,8))\n",
        "sns.heatmap(df_bf2.corr(), annot=True, linewidths=0.5, linecolor='black', cmap='Blues')\n",
        "plt.xticks(rotation=90)\n",
        "plt.show()"
      ],
      "execution_count": null,
      "outputs": [
        {
          "output_type": "display_data",
          "data": {
            "image/png": "[encoded data removed]",
            "text/plain": [
              "<Figure size 576x576 with 2 Axes>"
            ]
          },
          "metadata": {
            "tags": [],
            "needs_background": "light"
          }
        }
      ]
    },
    {
      "cell_type": "markdown",
      "metadata": {
        "id": "amfusrSOZ1hP"
      },
      "source": [
        "Através do mapa de calor, podemos observar que não há correlação significativa."
      ]
    },
    {
      "cell_type": "markdown",
      "metadata": {
        "id": "DvK8K66JZ1hQ"
      },
      "source": [
        "## Transformação dos dados"
      ]
    },
    {
      "cell_type": "code",
      "metadata": {
        "id": "f1AIVbM3XnjW"
      },
      "source": [
        "# Categóricos\n",
        "le = preprocessing.LabelEncoder()\n",
        "\n",
        "#df_bf['User_ID'] = le.fit_transform(df_bf['User_ID'])\n",
        "#df_bf['Product_ID'] = le.fit_transform(df_bf['Product_ID'])\n",
        "df_bf['Age']=le.fit_transform(df_bf['Age'])\n",
        "df_bf['City_Category']=le.fit_transform(df_bf['City_Category'])\n",
        "df_bf['Stay_In_Current_City_Years']=le.fit_transform(df_bf['Stay_In_Current_City_Years'])\n",
        "\n",
        "# Dummies\n",
        "df_bf = pd.get_dummies(df_bf, columns=['Gender'])"
      ],
      "execution_count": null,
      "outputs": []
    },
    {
      "cell_type": "markdown",
      "metadata": {
        "id": "Q3dUtc9WvPm4"
      },
      "source": [
        "Vamos dividir o conjunto de dados em treinamento e testes e preparar as entradas e saídas"
      ]
    },
    {
      "cell_type": "code",
      "metadata": {
        "id": "d8LN0uZ49dmb"
      },
      "source": [
        "X = df_bf.drop(['User_ID', 'Product_ID', 'Product_Category_3', 'Product_Category_2','Purchase'], axis=1)\n",
        "y = df_bf['Purchase']\n",
        "X_train, X_test, y_train, y_test = train_test_split(X,y,test_size = 0.3, shuffle=False)"
      ],
      "execution_count": null,
      "outputs": []
    },
    {
      "cell_type": "markdown",
      "metadata": {
        "id": "Hwu_0f5cZ1hS"
      },
      "source": [
        "## Modelos"
      ]
    },
    {
      "cell_type": "markdown",
      "metadata": {
        "id": "ASXh_t7-Z1hT"
      },
      "source": [
        "Começamos com XGBoost Regressor"
      ]
    },
    {
      "cell_type": "code",
      "metadata": {
        "id": "n4fymSBhZ1hT"
      },
      "source": [
        "xg_reg = xgb.XGBRegressor(objective ='reg:linear', colsample_bytree = 0.3, learning_rate = 0.1,\n",
        "                max_depth = 5, alpha = 10, n_estimators = 10)"
      ],
      "execution_count": null,
      "outputs": []
    },
    {
      "cell_type": "code",
      "metadata": {
        "id": "g4OfpV7qZ1hU",
        "outputId": "cbca310e-9997-4cac-ca8a-7d3ae1b90eb4"
      },
      "source": [
        "xg_reg.fit(X_train,y_train)\n",
        "\n",
        "preds = xg_reg.predict(X_test)"
      ],
      "execution_count": null,
      "outputs": [
        {
          "output_type": "stream",
          "text": [
            "/home/soutes/anaconda3/lib/python3.6/site-packages/xgboost/core.py:587: FutureWarning: Series.base is deprecated and will be removed in a future version\n",
            "  if getattr(data, 'base', None) is not None and \\\n"
          ],
          "name": "stderr"
        },
        {
          "output_type": "stream",
          "text": [
            "[20:52:30] WARNING: /workspace/src/objective/regression_obj.cu:152: reg:linear is now deprecated in favor of reg:squarederror.\n"
          ],
          "name": "stdout"
        }
      ]
    },
    {
      "cell_type": "code",
      "metadata": {
        "id": "lAot2nINZ1hV",
        "outputId": "7c24687a-829e-4cbe-9478-e9108bc63dca"
      },
      "source": [
        "rmse = np.sqrt(mean_squared_error(y_test, preds))\n",
        "print(\"RMSE: %f\" % (rmse))"
      ],
      "execution_count": null,
      "outputs": [
        {
          "output_type": "stream",
          "text": [
            "RMSE: 5761.716923\n"
          ],
          "name": "stdout"
        }
      ]
    },
    {
      "cell_type": "markdown",
      "metadata": {
        "id": "ITMVrrivZ1hV"
      },
      "source": [
        "Abaixo aplicamos outros algoritmos para fins de comparação com o modelo anterior e avaliar qual o mais indicado para este DataFrame."
      ]
    },
    {
      "cell_type": "code",
      "metadata": {
        "id": "YHdC2BP8z1cC",
        "outputId": "18613e9f-4046-43a8-bfbd-9891f6401ba3"
      },
      "source": [
        "models = [['DecisionTree :',DecisionTreeRegressor()],\n",
        "           ['Linear Regression :', LinearRegression()],\n",
        "           ['RandomForest :',RandomForestRegressor()],\n",
        "           ['KNeighbours :', KNeighborsRegressor(n_neighbors = 2)],\n",
        "           ['AdaBoostClassifier :', AdaBoostRegressor()],\n",
        "           ['GradientBoostingClassifier: ', GradientBoostingRegressor()],\n",
        "           ['CatBoost: ', CatBoostRegressor(logging_level='Silent')],\n",
        "           ['Lasso: ', Lasso()],\n",
        "           ['Ridge: ', Ridge()],\n",
        "           ['BayesianRidge: ', BayesianRidge()],\n",
        "           ['ElasticNet: ', ElasticNet()],\n",
        "           ['HuberRegressor: ', HuberRegressor()]]\n",
        "\n",
        "print(\"Results...\")\n",
        "\n",
        "\n",
        "for name,model in models:\n",
        "    model = model\n",
        "    model.fit(X_train, y_train)\n",
        "    predictions = model.predict(X_test)\n",
        "    print(name, (np.sqrt(mean_squared_error(y_test, predictions))))"
      ],
      "execution_count": null,
      "outputs": [
        {
          "output_type": "stream",
          "text": [
            "Results...\n",
            "DecisionTree : 3002.9215262932426\n",
            "Linear Regression : 4721.393844259144\n"
          ],
          "name": "stdout"
        },
        {
          "output_type": "stream",
          "text": [
            "/home/soutes/anaconda3/lib/python3.6/site-packages/sklearn/ensemble/forest.py:245: FutureWarning: The default value of n_estimators will change from 10 in version 0.20 to 100 in 0.22.\n",
            "  \"10 in version 0.20 to 100 in 0.22.\", FutureWarning)\n"
          ],
          "name": "stderr"
        },
        {
          "output_type": "stream",
          "text": [
            "RandomForest : 2977.567601028236\n",
            "KNeighbours : 3626.792736994\n",
            "AdaBoostClassifier : 3520.581921838738\n",
            "GradientBoostingClassifier:  3026.5341798510176\n",
            "CatBoost:  2993.191213272116\n",
            "Lasso:  4721.405820393603\n",
            "Ridge:  4721.39384387686\n",
            "BayesianRidge:  4721.393766519445\n",
            "ElasticNet:  4725.168241827376\n",
            "HuberRegressor:  4816.322680385044\n"
          ],
          "name": "stdout"
        }
      ]
    },
    {
      "cell_type": "markdown",
      "metadata": {
        "id": "t9QiRNDkZ1hY"
      },
      "source": [
        "Abaixo aplico novamente os modelos Regressão Linear e Árvore de Decisão, apenas para visualizar seus resultados através do seu respectivo score:"
      ]
    },
    {
      "cell_type": "code",
      "metadata": {
        "colab": {
          "base_uri": "https://localhost:8080/",
          "height": 34
        },
        "id": "Q-7rHskt8UZn",
        "outputId": "7df9b0de-3d87-4fe6-bb97-a54e258a6019"
      },
      "source": [
        "lr = LinearRegression()\n",
        "lr.fit(X_train, y_train)\n",
        "\n",
        "score = lr.score(X_train, y_train)\n",
        "predict = lr.predict(X_train)\n",
        "\n",
        "print('Regressão Linear: ' + str(score))"
      ],
      "execution_count": null,
      "outputs": [
        {
          "output_type": "stream",
          "text": [
            "Regressão Linear: 0.10549229662862813\n"
          ],
          "name": "stdout"
        }
      ]
    },
    {
      "cell_type": "code",
      "metadata": {
        "colab": {
          "base_uri": "https://localhost:8080/",
          "height": 232
        },
        "id": "yRJU65iz_EPj",
        "outputId": "ccd42e42-f48a-4f5f-84d2-d36b0bbb8451"
      },
      "source": [
        "dt = DecisionTreeRegressor()\n",
        "dt = dt.fit(X_train, y_train)\n",
        "\n",
        "dt.score(X_test,y_test)\n",
        "score = dt.score(X_test,y_test)\n",
        "\n",
        "print('Árvores de decisão: ' + str(score))"
      ],
      "execution_count": null,
      "outputs": [
        {
          "output_type": "stream",
          "text": [
            "Árvores de decisão: 0.638124009395947\n"
          ],
          "name": "stdout"
        }
      ]
    },
    {
      "cell_type": "code",
      "metadata": {
        "id": "p3l02CNGZ1hc"
      },
      "source": [
        ""
      ],
      "execution_count": null,
      "outputs": []
    }
  ]
}